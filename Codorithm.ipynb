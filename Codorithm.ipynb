{
 "cells": [
  {
   "cell_type": "code",
   "execution_count": 1,
   "metadata": {},
   "outputs": [
    {
     "name": "stdout",
     "output_type": "stream",
     "text": [
      "Enter characters: ab\n",
      "ASCII value of a is 97\n",
      "ASCII value of b is 98\n"
     ]
    }
   ],
   "source": [
    "# Runal \n",
    "# Day 1 - 31/08/2020\n",
    "# Write a program to Convert user inputted characters into ASCII value.\n",
    "\n",
    "\n",
    "#get characters from users and stored in char var.\n",
    "char = input(\"Enter characters: \")\n",
    "temp = 0\n",
    "\n",
    "#finding each user inputted character to it's ASCII value.\n",
    "for x in char:\n",
    "    #store ASCII value to ascii_value variable.\n",
    "    ascii_value = ord(x)\n",
    "    #print ASCII value of each character .\n",
    "    print(\"ASCII value of\",char[temp], \"is\", ascii_value)\n",
    "    #incerment temp to get index position of the character\n",
    "    temp = temp + 1\n"
   ]
  },
  {
   "cell_type": "code",
   "execution_count": 2,
   "metadata": {},
   "outputs": [
    {
     "name": "stdout",
     "output_type": "stream",
     "text": [
      "Enter Year: 1800\n",
      "1800 is not a leap year\n"
     ]
    }
   ],
   "source": [
    "# Runal \n",
    "# Day 4 - 03/09/2020\n",
    "# Write a program to check whether the inputted year is leap year or not.\n",
    "\n",
    "#user input\n",
    "yr = int(input(\"Enter Year: \"))\n",
    "\n",
    "#checks leap year or not\n",
    "if (yr % 4 == 0):\n",
    "    #for century year\n",
    "    if (yr % 100 == 0):\n",
    "        if (yr % 400 == 0):\n",
    "            res = \"leap\"\n",
    "        else:\n",
    "            res = \"not a leap\"\n",
    "    else:\n",
    "        res = \"leap\"\n",
    "else:\n",
    "    res = \"not a leap\"\n",
    "#print result\n",
    "print(\"{} is {} year\".format(yr,res))"
   ]
  },
  {
   "cell_type": "code",
   "execution_count": 3,
   "metadata": {},
   "outputs": [
    {
     "name": "stdout",
     "output_type": "stream",
     "text": [
      "Enter days: 2453\n",
      "6 years, 37 weeks, 4 days.\n"
     ]
    }
   ],
   "source": [
    "# Runal \n",
    "# Day 5 - 04/09/2020\n",
    "# Write a program to convert specified days into years, weeks and days. Eg. 1329 days = 3 years 33 weeks 3 days. Note:- Ignore leap year\n",
    "\n",
    "\n",
    "#user input\n",
    "dy = int(input(\"Enter days: \"))\n",
    "\n",
    "#find years from user inputted days\n",
    "year = int(dy / 365)\n",
    "\n",
    "#find weeks from user inputted days\n",
    "week = int( (dy % 365) / 7 )\n",
    "\n",
    "#find days from user inputted days\n",
    "day = int(dy % 365) % 7\n",
    "\n",
    "print(\"{} years, {} weeks, {} days.\".format(year,week,day))\n"
   ]
  },
  {
   "cell_type": "code",
   "execution_count": 4,
   "metadata": {},
   "outputs": [
    {
     "name": "stdout",
     "output_type": "stream",
     "text": [
      "30 36 42 \n",
      "66 81 96 \n",
      "102 126 150 \n"
     ]
    }
   ],
   "source": [
    "# Runal \n",
    "# Day 6 - 05/09/2020\n",
    "# Write a program for 3×3 matrix multiplication.\n",
    "\n",
    "#3x3 matrix-A\n",
    "A = [[1, 2, 3],[4, 5, 6],[7, 8, 9]]\n",
    "#3x3 matrix-B\n",
    "B = [[1, 2, 3],[4, 5, 6],[7, 8, 9]]\n",
    "#blank matrix to store result\n",
    "R = [[0, 0, 0],[0, 0, 0],[0, 0, 0]]\n",
    "\n",
    "#matrix multiplication\n",
    "for i in range(3):\n",
    "    for j in range(3):\n",
    "        for k in range(3):\n",
    "            R[i][j]=R[i][j] + A[i][k] * B[k][j]\n",
    "\n",
    "#print result in 3x3 matrix form\n",
    "for i in range(3):\n",
    "    for j in range(3):\n",
    "        print(R[i][j],end=\" \")\n",
    "    print()\n"
   ]
  },
  {
   "cell_type": "code",
   "execution_count": 5,
   "metadata": {},
   "outputs": [
    {
     "name": "stdout",
     "output_type": "stream",
     "text": [
      "Enter: Python\n",
      "Reverse: nohtyP\n"
     ]
    }
   ],
   "source": [
    "# Runal \n",
    "# Day 7 - 07/09/2020\n",
    "# Write a program to reverse a string without using string inbuilt function reverse()\n",
    "\n",
    "\n",
    "#user input\n",
    "str = (input(\"Enter: \"))\n",
    "\n",
    "#blank sting to store result\n",
    "res = \"\"\n",
    "\n",
    "#find string in reverse order\n",
    "for y in str:\n",
    "    #add new character at the beginning\n",
    "    res = y + res\n",
    "\n",
    "#print string in reverse order\n",
    "print(\"Reverse:\",res)"
   ]
  },
  {
   "cell_type": "code",
   "execution_count": null,
   "metadata": {},
   "outputs": [],
   "source": [
    "# Runal \n",
    "# Day 8 - 08/09/2020\n",
    "# Write a Program to check if number is Armstrong Number. Note. Ex: 153=(1*1*1) + (5*5*5) + (3*3*3). 153 is a Armstrong Number\n",
    "\n",
    "num = int(input(\"Enter no: \"))\n",
    "\n",
    "res = 0\n",
    "no = num\n",
    "len_no = len(str(num))\n",
    "\n",
    "while(no!=0):\n",
    "    d = no%10\n",
    "    res = res + d ** len_no\n",
    "    no = no//10\n",
    "\n",
    "if num == res:\n",
    "    print(num,\"is a Armstrong Number \")\n",
    "else:\n",
    "    print(num,\"is not a Armstrong Number \")\n"
   ]
  },
  {
   "cell_type": "code",
   "execution_count": 13,
   "metadata": {},
   "outputs": [
    {
     "name": "stdout",
     "output_type": "stream",
     "text": [
      "Enter: Hello ALL 123\n",
      "Vowels count: 3\n",
      "Consonant count: 5\n"
     ]
    }
   ],
   "source": [
    "# Runal \n",
    "# Day 9 - 09/09/2020\n",
    "# WAP to calculate vowels and consonants in a given string\n",
    "\n",
    "str = (input(\"Enter: \"))\n",
    "vowel = \"AEIOU\"\n",
    "consonant = \"BCDFGHJKLMNPQRSTVWXYZ\"\n",
    "v_count, c_count = 0,0\n",
    "\n",
    "#find each user inputted alphabet\n",
    "for x in str.upper():\n",
    "    #finding x in vowel variable\n",
    "    if x in vowel:\n",
    "        #count if alphabet is vowel\n",
    "        v_count = v_count + 1\n",
    "\n",
    "    #finding x in consonant variable\n",
    "    elif x in consonant:\n",
    "        #count if alphabet is consonant\n",
    "        c_count = c_count + 1\n",
    "\n",
    "    #else: skips numbers and spaces\n",
    "\n",
    "#print Vowels and Consonant count\n",
    "print(\"Vowels count:\",v_count)\n",
    "print(\"Consonant count:\",c_count)"
   ]
  },
  {
   "cell_type": "code",
   "execution_count": 14,
   "metadata": {},
   "outputs": [
    {
     "name": "stdout",
     "output_type": "stream",
     "text": [
      "Enter a: 3.5\n",
      "Enter b: 2\n",
      "3.5 ^ 2.0 = 12.25\n"
     ]
    }
   ],
   "source": [
    "# Runal \n",
    "# Day 11 - 11/09/2020\n",
    "# Two numbers are entered through the keyboard. Write a program to find the value of first number raised to the power of second number. Note : Don't use predefined functions.\n",
    "\n",
    "a = float(input(\"Enter a: \"))\n",
    "b = float(input(\"Enter b: \"))\n",
    "c = b\n",
    "\n",
    "res = 1\n",
    "while (c!=0):\n",
    "    res = res * a\n",
    "    c = c - 1\n",
    "\n",
    "print(\"{} ^ {} = {}\".format(a,b,res))\n"
   ]
  },
  {
   "cell_type": "code",
   "execution_count": 15,
   "metadata": {},
   "outputs": [
    {
     "name": "stdout",
     "output_type": "stream",
     "text": [
      "Enter Decimal: 23\n",
      "Decimal to Binary: 10111"
     ]
    }
   ],
   "source": [
    "# Runal \n",
    "# Day 12 - 12/09/2020\n",
    "# WAP to Convert Decimal Number to Binary. Note : Don't use inbuilt method\n",
    "\n",
    "def dec_to_bin(dec):\n",
    "    if(dec==0):\n",
    "        return\n",
    "    else:\n",
    "        dec_to_bin(int(dec/2))\n",
    "        print(dec%2, end=\"\")\n",
    "\n",
    "num = int(input(\"Enter Decimal: \"))\n",
    "print(\"Decimal to Binary: \",end=\"\")\n",
    "dec_to_bin(num)\n"
   ]
  },
  {
   "cell_type": "code",
   "execution_count": 16,
   "metadata": {},
   "outputs": [
    {
     "name": "stdout",
     "output_type": "stream",
     "text": [
      "1-3\n",
      "3-5\n",
      "5-7\n",
      "11-13\n",
      "17-19\n",
      "29-31\n",
      "41-43\n",
      "59-61\n",
      "71-73\n"
     ]
    }
   ],
   "source": [
    "# Runal \n",
    "# Day 16 - 17/09/2020\n",
    "# Wap to print all twin prime numbers up to 100\n",
    "\n",
    "def prime(num):\n",
    "   for x in range( 2 , (num//2)+1 ):\n",
    "      if num % x == 0:\n",
    "         return False\n",
    "   return True\n",
    "\n",
    "for i in range(1, 100+1):\n",
    "    j = i + 2\n",
    "    if(prime(i) and prime(j)):\n",
    "        #if both 'True' then print twin prime no.\n",
    "        print(\"{}-{}\".format(i, j))\n"
   ]
  },
  {
   "cell_type": "code",
   "execution_count": 17,
   "metadata": {},
   "outputs": [
    {
     "name": "stdout",
     "output_type": "stream",
     "text": [
      "[1, 2, 3, 4, 6, 8, 9]\n"
     ]
    }
   ],
   "source": [
    "# Runal \n",
    "# Day 16 - 17/09/2020\n",
    "# WAFun that merges two sorted list into a new sorted list\n",
    "\n",
    "def sort_n_add (x,y):\n",
    "    list = x+y\n",
    "    list.sort()\n",
    "    print(list)\n",
    "\n",
    "l1 = [1,3,8,4]\n",
    "l2 = [9,2,6]\n",
    "\n",
    "sort_n_add(l1,l2)\n"
   ]
  },
  {
   "cell_type": "code",
   "execution_count": 18,
   "metadata": {},
   "outputs": [
    {
     "name": "stdout",
     "output_type": "stream",
     "text": [
      "*********\n",
      "* hello *\n",
      "* world *\n",
      "* in    *\n",
      "* a     *\n",
      "* frame *\n",
      "*********\n",
      "\n",
      "2nd:\n",
      "*******\n",
      "* Hi  *\n",
      "* all *\n",
      "*******\n"
     ]
    }
   ],
   "source": [
    "# Runal \n",
    "# Day 17 - 18/09/2020\n",
    "\n",
    "def frame(list):\n",
    "    l2=[]\n",
    "    for x in list:\n",
    "        c = len(x)\n",
    "        #print(len(x))\n",
    "        l2.append(c)\n",
    "        #print(l2)\n",
    "        #size = max(len(y) for y in x)\n",
    "    max_ch = max(l2)\n",
    "    #print(max_ch)\n",
    "\n",
    "    print(\"*\" * (max_ch+4))\n",
    "    for y in list:\n",
    "        print('* {:<{}} *'.format(y,max_ch))\n",
    "    print(\"*\" * (max_ch+4))\n",
    "\n",
    "l2 = [\"hello\",\"world\",\"in\",\"a\",\"frame\"]\n",
    "frame(l2)\n",
    "\n",
    "print(\"\\n2nd:\")\n",
    "frame([\"Hi\",\"all\"])\n"
   ]
  },
  {
   "cell_type": "code",
   "execution_count": 19,
   "metadata": {},
   "outputs": [
    {
     "name": "stdout",
     "output_type": "stream",
     "text": [
      "Text: Sipna COET\n",
      "Words Count: 2\n"
     ]
    }
   ],
   "source": [
    "# Runal \n",
    "# 24/09/2020\n",
    "\n",
    "def wordcount(text):\n",
    "    w_count = 0\n",
    "    words = text.split(\" \")\n",
    "    for x in words:\n",
    "        w_count = w_count + 1\n",
    "    return  w_count\n",
    "\n",
    "\n",
    "txt = \"Sipna COET\"\n",
    "wc = wordcount(txt)\n",
    "\n",
    "print(\"Text: {}\\nWords Count: {}\".format(txt,wc))\n"
   ]
  },
  {
   "cell_type": "code",
   "execution_count": 20,
   "metadata": {},
   "outputs": [
    {
     "name": "stdout",
     "output_type": "stream",
     "text": [
      "txt is palindrome\n",
      "Hi All is not a palindrome\n"
     ]
    }
   ],
   "source": [
    "# Runal \n",
    "# 25/09/2020\n",
    "\n",
    "def check_palindrome(str):\n",
    "    rev = \"\"\n",
    "    for y in str:\n",
    "        # add new character at the beginning\n",
    "        rev = y + rev\n",
    "    #check string for palindrome or not\n",
    "    if str == rev:\n",
    "        print(\"{} is palindrome\".format(str))\n",
    "    else:\n",
    "        print(\"{} is not a palindrome\".format(str))\n",
    "\n",
    "\n",
    "check_palindrome(\"txt\")\n",
    "\n",
    "check_palindrome(\"Hi All\")"
   ]
  },
  {
   "cell_type": "code",
   "execution_count": 21,
   "metadata": {},
   "outputs": [
    {
     "name": "stdout",
     "output_type": "stream",
     "text": [
      "String: Hi All \n",
      "Array:['H', 'i', ' ', 'A', 'l', 'l']\n"
     ]
    }
   ],
   "source": [
    "# Runal \n",
    "# Day 24 - 26/09/2020\n",
    "\n",
    "def str_to_arr(str):\n",
    "    arr = []\n",
    "    for x in str:\n",
    "        arr.append(x)\n",
    "    print(\"String: {} \\nArray:{}\".format(str,arr))\n",
    "\n",
    "    str_to_arr(\"Hi All\")"
   ]
  },
  {
   "cell_type": "code",
   "execution_count": 14,
   "metadata": {},
   "outputs": [
    {
     "name": "stdout",
     "output_type": "stream",
     "text": [
      "Sum: 412\n"
     ]
    }
   ],
   "source": [
    "# Runal \n",
    "# 02/10/2020\n",
    "\n",
    "str = \"12,46,67,66,34,34,65,43,45\"\n",
    "\n",
    "li = str.split(\",\")\n",
    "sum = 0\n",
    "for x in li:\n",
    "    sum = sum + int(x)\n",
    "print(\"Sum:\",sum)"
   ]
  },
  {
   "cell_type": "code",
   "execution_count": 2,
   "metadata": {},
   "outputs": [
    {
     "name": "stdout",
     "output_type": "stream",
     "text": [
      "Enter No: 12321\n",
      "palindrome\n"
     ]
    }
   ],
   "source": [
    "# Runal \n",
    "# 03/10/2020\n",
    "# WAP to check if given Integer is palindrome or not. \n",
    "# An integer is called palindrome if it's equal to its reverse, e.g. 1001 is a palindrome, but 1234 is not because the reverse of 1234 is 4321 which is not equal to 1234. You can use divide by 10 to reduce the number and modulus 10 to get the last digit. This trick is used to solve this problem.\n",
    "\n",
    "no=int(input(\"Enter No: \"))\n",
    "\n",
    "rem=0\n",
    "rev=0\n",
    "org=no\n",
    "while(no>0):\n",
    "    rem=no%10\n",
    "    rev=rev*10+rem\n",
    "    no=no//10\n",
    "\n",
    "if(org==rev):\n",
    "        print(\"palindrome\")\n",
    "else:\n",
    "    print(\"not palindrome\")"
   ]
  }
 ],
 "metadata": {
  "kernelspec": {
   "display_name": "Python 3",
   "language": "python",
   "name": "python3"
  },
  "language_info": {
   "codemirror_mode": {
    "name": "ipython",
    "version": 3
   },
   "file_extension": ".py",
   "mimetype": "text/x-python",
   "name": "python",
   "nbconvert_exporter": "python",
   "pygments_lexer": "ipython3",
   "version": "3.7.0b1"
  }
 },
 "nbformat": 4,
 "nbformat_minor": 4
}
